{
 "cells": [
  {
   "cell_type": "code",
   "execution_count": 6,
   "metadata": {},
   "outputs": [],
   "source": [
    "import altair as alt\n",
    "from pathlib import Path\n",
    "import json\n",
    "import pandas as pd"
   ]
  },
  {
   "cell_type": "code",
   "execution_count": 24,
   "metadata": {},
   "outputs": [
    {
     "data": {
      "text/html": [
       "\n",
       "<div id=\"altair-viz-5ea1ddebaf0347e49f998e63066159cb\"></div>\n",
       "<script type=\"text/javascript\">\n",
       "  (function(spec, embedOpt){\n",
       "    let outputDiv = document.currentScript.previousElementSibling;\n",
       "    if (outputDiv.id !== \"altair-viz-5ea1ddebaf0347e49f998e63066159cb\") {\n",
       "      outputDiv = document.getElementById(\"altair-viz-5ea1ddebaf0347e49f998e63066159cb\");\n",
       "    }\n",
       "    const paths = {\n",
       "      \"vega\": \"https://cdn.jsdelivr.net/npm//vega@5?noext\",\n",
       "      \"vega-lib\": \"https://cdn.jsdelivr.net/npm//vega-lib?noext\",\n",
       "      \"vega-lite\": \"https://cdn.jsdelivr.net/npm//vega-lite@4.8.1?noext\",\n",
       "      \"vega-embed\": \"https://cdn.jsdelivr.net/npm//vega-embed@6?noext\",\n",
       "    };\n",
       "\n",
       "    function loadScript(lib) {\n",
       "      return new Promise(function(resolve, reject) {\n",
       "        var s = document.createElement('script');\n",
       "        s.src = paths[lib];\n",
       "        s.async = true;\n",
       "        s.onload = () => resolve(paths[lib]);\n",
       "        s.onerror = () => reject(`Error loading script: ${paths[lib]}`);\n",
       "        document.getElementsByTagName(\"head\")[0].appendChild(s);\n",
       "      });\n",
       "    }\n",
       "\n",
       "    function showError(err) {\n",
       "      outputDiv.innerHTML = `<div class=\"error\" style=\"color:red;\">${err}</div>`;\n",
       "      throw err;\n",
       "    }\n",
       "\n",
       "    function displayChart(vegaEmbed) {\n",
       "      vegaEmbed(outputDiv, spec, embedOpt)\n",
       "        .catch(err => showError(`Javascript Error: ${err.message}<br>This usually means there's a typo in your chart specification. See the javascript console for the full traceback.`));\n",
       "    }\n",
       "\n",
       "    if(typeof define === \"function\" && define.amd) {\n",
       "      requirejs.config({paths});\n",
       "      require([\"vega-embed\"], displayChart, err => showError(`Error loading script: ${err.message}`));\n",
       "    } else if (typeof vegaEmbed === \"function\") {\n",
       "      displayChart(vegaEmbed);\n",
       "    } else {\n",
       "      loadScript(\"vega\")\n",
       "        .then(() => loadScript(\"vega-lite\"))\n",
       "        .then(() => loadScript(\"vega-embed\"))\n",
       "        .catch(showError)\n",
       "        .then(() => displayChart(vegaEmbed));\n",
       "    }\n",
       "  })({\"config\": {\"view\": {\"continuousWidth\": 400, \"continuousHeight\": 300}}, \"data\": {\"name\": \"data-acd8421f7224e8f8ddb87a52234942da\"}, \"mark\": \"bar\", \"encoding\": {\"color\": {\"type\": \"ordinal\", \"field\": \"type\"}, \"column\": {\"type\": \"ordinal\", \"field\": \"benchmark\", \"header\": {\"labelAngle\": 45}, \"title\": \"\"}, \"x\": {\"type\": \"ordinal\", \"field\": \"type\"}, \"y\": {\"type\": \"quantitative\", \"field\": \"value\"}}, \"selection\": {\"selector008\": {\"type\": \"interval\", \"bind\": \"scales\", \"encodings\": [\"x\", \"y\"]}}, \"$schema\": \"https://vega.github.io/schema/vega-lite/v4.8.1.json\", \"datasets\": {\"data-acd8421f7224e8f8ddb87a52234942da\": [{\"benchmark\": \"linear-algebra-symm\", \"type\": \"hls\", \"value\": 2186, \"source\": \"results/2020_07_28_11_18\"}, {\"benchmark\": \"linear-algebra-symm\", \"type\": \"futil\", \"value\": 226, \"source\": \"results/2020_07_28_11_18\"}, {\"benchmark\": \"linear-algebra-2mm\", \"type\": \"hls\", \"value\": 2267, \"source\": \"results/2020_07_28_11_18\"}, {\"benchmark\": \"linear-algebra-2mm\", \"type\": \"futil\", \"value\": 306, \"source\": \"results/2020_07_28_11_18\"}, {\"benchmark\": \"linear-algebra-trmm\", \"type\": \"hls\", \"value\": 1498, \"source\": \"results/2020_07_28_11_18\"}, {\"benchmark\": \"linear-algebra-trmm\", \"type\": \"futil\", \"value\": 192, \"source\": \"results/2020_07_28_11_18\"}, {\"benchmark\": \"linear-algebra-syr2k\", \"type\": \"hls\", \"value\": 2068, \"source\": \"results/2020_07_28_11_18\"}, {\"benchmark\": \"linear-algebra-syr2k\", \"type\": \"futil\", \"value\": 326, \"source\": \"results/2020_07_28_11_18\"}, {\"benchmark\": \"linear-algebra-syrk\", \"type\": \"hls\", \"value\": 1825, \"source\": \"results/2020_07_28_11_18\"}, {\"benchmark\": \"linear-algebra-syrk\", \"type\": \"futil\", \"value\": 358, \"source\": \"results/2020_07_28_11_18\"}, {\"benchmark\": \"linear-algebra-trisolv\", \"type\": \"hls\", \"value\": 1830, \"source\": \"results/2020_07_28_11_18\"}, {\"benchmark\": \"linear-algebra-trisolv\", \"type\": \"futil\", \"value\": 175, \"source\": \"results/2020_07_28_11_18\"}, {\"benchmark\": \"linear-algebra-bicg\", \"type\": \"hls\", \"value\": 1804, \"source\": \"results/2020_07_28_11_18\"}, {\"benchmark\": \"linear-algebra-bicg\", \"type\": \"futil\", \"value\": 285, \"source\": \"results/2020_07_28_11_18\"}, {\"benchmark\": \"linear-algebra-atax\", \"type\": \"hls\", \"value\": 1769, \"source\": \"results/2020_07_28_11_18\"}, {\"benchmark\": \"linear-algebra-atax\", \"type\": \"futil\", \"value\": 322, \"source\": \"results/2020_07_28_11_18\"}, {\"benchmark\": \"linear-algebra-gesummv\", \"type\": \"hls\", \"value\": 2112, \"source\": \"results/2020_07_28_11_18\"}, {\"benchmark\": \"linear-algebra-gesummv\", \"type\": \"futil\", \"value\": 212, \"source\": \"results/2020_07_28_11_18\"}, {\"benchmark\": \"linear-algebra-gemm\", \"type\": \"hls\", \"value\": 1839, \"source\": \"results/2020_07_28_11_18\"}, {\"benchmark\": \"linear-algebra-gemm\", \"type\": \"futil\", \"value\": 290, \"source\": \"results/2020_07_28_11_18\"}, {\"benchmark\": \"dot-product\", \"type\": \"hls\", \"value\": 216, \"source\": \"results/2020_07_28_11_18\"}, {\"benchmark\": \"dot-product\", \"type\": \"futil\", \"value\": 97, \"source\": \"results/2020_07_28_11_18\"}, {\"benchmark\": \"linear-algebra-gemver\", \"type\": \"hls\", \"value\": 3193, \"source\": \"results/2020_07_28_11_18\"}, {\"benchmark\": \"linear-algebra-gemver\", \"type\": \"futil\", \"value\": 450, \"source\": \"results/2020_07_28_11_18\"}, {\"benchmark\": \"linear-algebra-mvt\", \"type\": \"hls\", \"value\": 1816, \"source\": \"results/2020_07_28_11_18\"}, {\"benchmark\": \"linear-algebra-mvt\", \"type\": \"futil\", \"value\": 256, \"source\": \"results/2020_07_28_11_18\"}, {\"benchmark\": \"linear-algebra-3mm\", \"type\": \"hls\", \"value\": 2572, \"source\": \"results/2020_07_28_11_36\"}, {\"benchmark\": \"linear-algebra-3mm\", \"type\": \"futil\", \"value\": 443, \"source\": \"results/2020_07_28_11_36\"}, {\"benchmark\": \"linear-algebra-lu\", \"type\": \"hls\", \"value\": 2078, \"source\": \"results/2020_07_28_11_36\"}, {\"benchmark\": \"linear-algebra-lu\", \"type\": \"futil\", \"value\": 405, \"source\": \"results/2020_07_28_11_36\"}]}}, {\"mode\": \"vega-lite\"});\n",
       "</script>"
      ],
      "text/plain": [
       "alt.Chart(...)"
      ]
     },
     "execution_count": 24,
     "metadata": {},
     "output_type": "execute_result"
    }
   ],
   "source": [
    "source = pd.read_csv('results/2020_07_28_11_36.csv')\n",
    "\n",
    "alt.Chart(source).mark_bar().encode(\n",
    "    x='type:O',\n",
    "    y='value:Q',\n",
    "    column=alt.Column('benchmark:O',\n",
    "                     title=\"\",\n",
    "                     header=alt.Header(labelAngle=45)),\n",
    "    color='type:O'\n",
    ").interactive()\n"
   ]
  },
  {
   "cell_type": "code",
   "execution_count": null,
   "metadata": {},
   "outputs": [],
   "source": []
  }
 ],
 "metadata": {
  "kernelspec": {
   "display_name": "Python 3",
   "language": "python",
   "name": "python3"
  },
  "language_info": {
   "codemirror_mode": {
    "name": "ipython",
    "version": 3
   },
   "file_extension": ".py",
   "mimetype": "text/x-python",
   "name": "python",
   "nbconvert_exporter": "python",
   "pygments_lexer": "ipython3",
   "version": "3.8.2"
  }
 },
 "nbformat": 4,
 "nbformat_minor": 4
}
