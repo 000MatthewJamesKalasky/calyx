{
 "cells": [
  {
   "cell_type": "code",
   "execution_count": 2,
   "metadata": {},
   "outputs": [],
   "source": [
    "import altair as alt\n",
    "from pathlib import Path\n",
    "import json\n",
    "import pandas as pd"
   ]
  },
  {
   "cell_type": "code",
   "execution_count": 3,
   "metadata": {},
   "outputs": [
    {
     "data": {
      "text/html": [
       "\n",
       "<div id=\"altair-viz-7147a6cb0ce14387804517ac2c8ead0c\"></div>\n",
       "<script type=\"text/javascript\">\n",
       "  (function(spec, embedOpt){\n",
       "    let outputDiv = document.currentScript.previousElementSibling;\n",
       "    if (outputDiv.id !== \"altair-viz-7147a6cb0ce14387804517ac2c8ead0c\") {\n",
       "      outputDiv = document.getElementById(\"altair-viz-7147a6cb0ce14387804517ac2c8ead0c\");\n",
       "    }\n",
       "    const paths = {\n",
       "      \"vega\": \"https://cdn.jsdelivr.net/npm//vega@5?noext\",\n",
       "      \"vega-lib\": \"https://cdn.jsdelivr.net/npm//vega-lib?noext\",\n",
       "      \"vega-lite\": \"https://cdn.jsdelivr.net/npm//vega-lite@4.8.1?noext\",\n",
       "      \"vega-embed\": \"https://cdn.jsdelivr.net/npm//vega-embed@6?noext\",\n",
       "    };\n",
       "\n",
       "    function loadScript(lib) {\n",
       "      return new Promise(function(resolve, reject) {\n",
       "        var s = document.createElement('script');\n",
       "        s.src = paths[lib];\n",
       "        s.async = true;\n",
       "        s.onload = () => resolve(paths[lib]);\n",
       "        s.onerror = () => reject(`Error loading script: ${paths[lib]}`);\n",
       "        document.getElementsByTagName(\"head\")[0].appendChild(s);\n",
       "      });\n",
       "    }\n",
       "\n",
       "    function showError(err) {\n",
       "      outputDiv.innerHTML = `<div class=\"error\" style=\"color:red;\">${err}</div>`;\n",
       "      throw err;\n",
       "    }\n",
       "\n",
       "    function displayChart(vegaEmbed) {\n",
       "      vegaEmbed(outputDiv, spec, embedOpt)\n",
       "        .catch(err => showError(`Javascript Error: ${err.message}<br>This usually means there's a typo in your chart specification. See the javascript console for the full traceback.`));\n",
       "    }\n",
       "\n",
       "    if(typeof define === \"function\" && define.amd) {\n",
       "      requirejs.config({paths});\n",
       "      require([\"vega-embed\"], displayChart, err => showError(`Error loading script: ${err.message}`));\n",
       "    } else if (typeof vegaEmbed === \"function\") {\n",
       "      displayChart(vegaEmbed);\n",
       "    } else {\n",
       "      loadScript(\"vega\")\n",
       "        .then(() => loadScript(\"vega-lite\"))\n",
       "        .then(() => loadScript(\"vega-embed\"))\n",
       "        .catch(showError)\n",
       "        .then(() => displayChart(vegaEmbed));\n",
       "    }\n",
       "  })({\"config\": {\"view\": {\"continuousWidth\": 400, \"continuousHeight\": 300}}, \"data\": {\"name\": \"data-03e4d7cef76a962338f4df30ee53e917\"}, \"mark\": \"bar\", \"encoding\": {\"color\": {\"type\": \"ordinal\", \"field\": \"type\"}, \"column\": {\"type\": \"ordinal\", \"field\": \"benchmark\", \"header\": {\"labelAngle\": -20}, \"title\": \"\"}, \"x\": {\"type\": \"ordinal\", \"field\": \"type\"}, \"y\": {\"type\": \"quantitative\", \"field\": \"lut\"}}, \"$schema\": \"https://vega.github.io/schema/vega-lite/v4.8.1.json\", \"datasets\": {\"data-03e4d7cef76a962338f4df30ee53e917\": [{\"benchmark\": \"linear-algebra-3mm\", \"type\": \"hls\", \"lut\": 727, \"dsp\": 0, \"source\": \"results/2020_07_28_15_48/\"}, {\"benchmark\": \"linear-algebra-3mm\", \"type\": \"hls_total\", \"lut\": 914, \"dsp\": 0, \"source\": \"results/2020_07_28_15_48/\"}, {\"benchmark\": \"linear-algebra-3mm\", \"type\": \"futil\", \"lut\": 443, \"dsp\": 0, \"source\": \"results/2020_07_28_15_48/\"}, {\"benchmark\": \"linear-algebra-2mm\", \"type\": \"hls\", \"lut\": 535, \"dsp\": 0, \"source\": \"results/2020_07_28_15_48/\"}, {\"benchmark\": \"linear-algebra-2mm\", \"type\": \"hls_total\", \"lut\": 771, \"dsp\": 0, \"source\": \"results/2020_07_28_15_48/\"}, {\"benchmark\": \"linear-algebra-2mm\", \"type\": \"futil\", \"lut\": 306, \"dsp\": 0, \"source\": \"results/2020_07_28_15_48/\"}]}}, {\"mode\": \"vega-lite\"});\n",
       "</script>"
      ],
      "text/plain": [
       "alt.Chart(...)"
      ]
     },
     "execution_count": 3,
     "metadata": {},
     "output_type": "execute_result"
    }
   ],
   "source": [
    "source = pd.read_csv('2020_07_28_15_48.csv')\n",
    "alt.Chart(source).mark_bar().encode(\n",
    "    x='type:O',\n",
    "    y='lut:Q',\n",
    "    column=alt.Column('benchmark:O',\n",
    "                     title=\"\",\n",
    "                     header=alt.Header(labelAngle=-20)),\n",
    "    color='type:O'\n",
    ")"
   ]
  },
  {
   "cell_type": "code",
   "execution_count": 4,
   "metadata": {},
   "outputs": [
    {
     "ename": "FileNotFoundError",
     "evalue": "[Errno 2] No such file or directory: '2020_07_28_11_8.csv'",
     "output_type": "error",
     "traceback": [
      "\u001b[0;31m---------------------------------------------------------------------------\u001b[0m",
      "\u001b[0;31mFileNotFoundError\u001b[0m                         Traceback (most recent call last)",
      "\u001b[0;32m<ipython-input-4-4282700d7f0e>\u001b[0m in \u001b[0;36m<module>\u001b[0;34m\u001b[0m\n\u001b[0;32m----> 1\u001b[0;31m \u001b[0msource\u001b[0m \u001b[0;34m=\u001b[0m \u001b[0mpd\u001b[0m\u001b[0;34m.\u001b[0m\u001b[0mread_csv\u001b[0m\u001b[0;34m(\u001b[0m\u001b[0;34m'2020_07_28_11_8.csv'\u001b[0m\u001b[0;34m)\u001b[0m\u001b[0;34m\u001b[0m\u001b[0;34m\u001b[0m\u001b[0m\n\u001b[0m\u001b[1;32m      2\u001b[0m alt.Chart(source).mark_bar().encode(\n\u001b[1;32m      3\u001b[0m     \u001b[0mx\u001b[0m\u001b[0;34m=\u001b[0m\u001b[0;34m'type:O'\u001b[0m\u001b[0;34m,\u001b[0m\u001b[0;34m\u001b[0m\u001b[0;34m\u001b[0m\u001b[0m\n\u001b[1;32m      4\u001b[0m     \u001b[0my\u001b[0m\u001b[0;34m=\u001b[0m\u001b[0;34m'lut:Q'\u001b[0m\u001b[0;34m,\u001b[0m\u001b[0;34m\u001b[0m\u001b[0;34m\u001b[0m\u001b[0m\n\u001b[1;32m      5\u001b[0m     column=alt.Column('benchmark:O',\n",
      "\u001b[0;32m~/.local/lib/python3.8/site-packages/pandas/io/parsers.py\u001b[0m in \u001b[0;36mread_csv\u001b[0;34m(filepath_or_buffer, sep, delimiter, header, names, index_col, usecols, squeeze, prefix, mangle_dupe_cols, dtype, engine, converters, true_values, false_values, skipinitialspace, skiprows, skipfooter, nrows, na_values, keep_default_na, na_filter, verbose, skip_blank_lines, parse_dates, infer_datetime_format, keep_date_col, date_parser, dayfirst, cache_dates, iterator, chunksize, compression, thousands, decimal, lineterminator, quotechar, quoting, doublequote, escapechar, comment, encoding, dialect, error_bad_lines, warn_bad_lines, delim_whitespace, low_memory, memory_map, float_precision)\u001b[0m\n\u001b[1;32m    684\u001b[0m     )\n\u001b[1;32m    685\u001b[0m \u001b[0;34m\u001b[0m\u001b[0m\n\u001b[0;32m--> 686\u001b[0;31m     \u001b[0;32mreturn\u001b[0m \u001b[0m_read\u001b[0m\u001b[0;34m(\u001b[0m\u001b[0mfilepath_or_buffer\u001b[0m\u001b[0;34m,\u001b[0m \u001b[0mkwds\u001b[0m\u001b[0;34m)\u001b[0m\u001b[0;34m\u001b[0m\u001b[0;34m\u001b[0m\u001b[0m\n\u001b[0m\u001b[1;32m    687\u001b[0m \u001b[0;34m\u001b[0m\u001b[0m\n\u001b[1;32m    688\u001b[0m \u001b[0;34m\u001b[0m\u001b[0m\n",
      "\u001b[0;32m~/.local/lib/python3.8/site-packages/pandas/io/parsers.py\u001b[0m in \u001b[0;36m_read\u001b[0;34m(filepath_or_buffer, kwds)\u001b[0m\n\u001b[1;32m    450\u001b[0m \u001b[0;34m\u001b[0m\u001b[0m\n\u001b[1;32m    451\u001b[0m     \u001b[0;31m# Create the parser.\u001b[0m\u001b[0;34m\u001b[0m\u001b[0;34m\u001b[0m\u001b[0;34m\u001b[0m\u001b[0m\n\u001b[0;32m--> 452\u001b[0;31m     \u001b[0mparser\u001b[0m \u001b[0;34m=\u001b[0m \u001b[0mTextFileReader\u001b[0m\u001b[0;34m(\u001b[0m\u001b[0mfp_or_buf\u001b[0m\u001b[0;34m,\u001b[0m \u001b[0;34m**\u001b[0m\u001b[0mkwds\u001b[0m\u001b[0;34m)\u001b[0m\u001b[0;34m\u001b[0m\u001b[0;34m\u001b[0m\u001b[0m\n\u001b[0m\u001b[1;32m    453\u001b[0m \u001b[0;34m\u001b[0m\u001b[0m\n\u001b[1;32m    454\u001b[0m     \u001b[0;32mif\u001b[0m \u001b[0mchunksize\u001b[0m \u001b[0;32mor\u001b[0m \u001b[0miterator\u001b[0m\u001b[0;34m:\u001b[0m\u001b[0;34m\u001b[0m\u001b[0;34m\u001b[0m\u001b[0m\n",
      "\u001b[0;32m~/.local/lib/python3.8/site-packages/pandas/io/parsers.py\u001b[0m in \u001b[0;36m__init__\u001b[0;34m(self, f, engine, **kwds)\u001b[0m\n\u001b[1;32m    934\u001b[0m             \u001b[0mself\u001b[0m\u001b[0;34m.\u001b[0m\u001b[0moptions\u001b[0m\u001b[0;34m[\u001b[0m\u001b[0;34m\"has_index_names\"\u001b[0m\u001b[0;34m]\u001b[0m \u001b[0;34m=\u001b[0m \u001b[0mkwds\u001b[0m\u001b[0;34m[\u001b[0m\u001b[0;34m\"has_index_names\"\u001b[0m\u001b[0;34m]\u001b[0m\u001b[0;34m\u001b[0m\u001b[0;34m\u001b[0m\u001b[0m\n\u001b[1;32m    935\u001b[0m \u001b[0;34m\u001b[0m\u001b[0m\n\u001b[0;32m--> 936\u001b[0;31m         \u001b[0mself\u001b[0m\u001b[0;34m.\u001b[0m\u001b[0m_make_engine\u001b[0m\u001b[0;34m(\u001b[0m\u001b[0mself\u001b[0m\u001b[0;34m.\u001b[0m\u001b[0mengine\u001b[0m\u001b[0;34m)\u001b[0m\u001b[0;34m\u001b[0m\u001b[0;34m\u001b[0m\u001b[0m\n\u001b[0m\u001b[1;32m    937\u001b[0m \u001b[0;34m\u001b[0m\u001b[0m\n\u001b[1;32m    938\u001b[0m     \u001b[0;32mdef\u001b[0m \u001b[0mclose\u001b[0m\u001b[0;34m(\u001b[0m\u001b[0mself\u001b[0m\u001b[0;34m)\u001b[0m\u001b[0;34m:\u001b[0m\u001b[0;34m\u001b[0m\u001b[0;34m\u001b[0m\u001b[0m\n",
      "\u001b[0;32m~/.local/lib/python3.8/site-packages/pandas/io/parsers.py\u001b[0m in \u001b[0;36m_make_engine\u001b[0;34m(self, engine)\u001b[0m\n\u001b[1;32m   1166\u001b[0m     \u001b[0;32mdef\u001b[0m \u001b[0m_make_engine\u001b[0m\u001b[0;34m(\u001b[0m\u001b[0mself\u001b[0m\u001b[0;34m,\u001b[0m \u001b[0mengine\u001b[0m\u001b[0;34m=\u001b[0m\u001b[0;34m\"c\"\u001b[0m\u001b[0;34m)\u001b[0m\u001b[0;34m:\u001b[0m\u001b[0;34m\u001b[0m\u001b[0;34m\u001b[0m\u001b[0m\n\u001b[1;32m   1167\u001b[0m         \u001b[0;32mif\u001b[0m \u001b[0mengine\u001b[0m \u001b[0;34m==\u001b[0m \u001b[0;34m\"c\"\u001b[0m\u001b[0;34m:\u001b[0m\u001b[0;34m\u001b[0m\u001b[0;34m\u001b[0m\u001b[0m\n\u001b[0;32m-> 1168\u001b[0;31m             \u001b[0mself\u001b[0m\u001b[0;34m.\u001b[0m\u001b[0m_engine\u001b[0m \u001b[0;34m=\u001b[0m \u001b[0mCParserWrapper\u001b[0m\u001b[0;34m(\u001b[0m\u001b[0mself\u001b[0m\u001b[0;34m.\u001b[0m\u001b[0mf\u001b[0m\u001b[0;34m,\u001b[0m \u001b[0;34m**\u001b[0m\u001b[0mself\u001b[0m\u001b[0;34m.\u001b[0m\u001b[0moptions\u001b[0m\u001b[0;34m)\u001b[0m\u001b[0;34m\u001b[0m\u001b[0;34m\u001b[0m\u001b[0m\n\u001b[0m\u001b[1;32m   1169\u001b[0m         \u001b[0;32melse\u001b[0m\u001b[0;34m:\u001b[0m\u001b[0;34m\u001b[0m\u001b[0;34m\u001b[0m\u001b[0m\n\u001b[1;32m   1170\u001b[0m             \u001b[0;32mif\u001b[0m \u001b[0mengine\u001b[0m \u001b[0;34m==\u001b[0m \u001b[0;34m\"python\"\u001b[0m\u001b[0;34m:\u001b[0m\u001b[0;34m\u001b[0m\u001b[0;34m\u001b[0m\u001b[0m\n",
      "\u001b[0;32m~/.local/lib/python3.8/site-packages/pandas/io/parsers.py\u001b[0m in \u001b[0;36m__init__\u001b[0;34m(self, src, **kwds)\u001b[0m\n\u001b[1;32m   1996\u001b[0m         \u001b[0mkwds\u001b[0m\u001b[0;34m[\u001b[0m\u001b[0;34m\"usecols\"\u001b[0m\u001b[0;34m]\u001b[0m \u001b[0;34m=\u001b[0m \u001b[0mself\u001b[0m\u001b[0;34m.\u001b[0m\u001b[0musecols\u001b[0m\u001b[0;34m\u001b[0m\u001b[0;34m\u001b[0m\u001b[0m\n\u001b[1;32m   1997\u001b[0m \u001b[0;34m\u001b[0m\u001b[0m\n\u001b[0;32m-> 1998\u001b[0;31m         \u001b[0mself\u001b[0m\u001b[0;34m.\u001b[0m\u001b[0m_reader\u001b[0m \u001b[0;34m=\u001b[0m \u001b[0mparsers\u001b[0m\u001b[0;34m.\u001b[0m\u001b[0mTextReader\u001b[0m\u001b[0;34m(\u001b[0m\u001b[0msrc\u001b[0m\u001b[0;34m,\u001b[0m \u001b[0;34m**\u001b[0m\u001b[0mkwds\u001b[0m\u001b[0;34m)\u001b[0m\u001b[0;34m\u001b[0m\u001b[0;34m\u001b[0m\u001b[0m\n\u001b[0m\u001b[1;32m   1999\u001b[0m         \u001b[0mself\u001b[0m\u001b[0;34m.\u001b[0m\u001b[0munnamed_cols\u001b[0m \u001b[0;34m=\u001b[0m \u001b[0mself\u001b[0m\u001b[0;34m.\u001b[0m\u001b[0m_reader\u001b[0m\u001b[0;34m.\u001b[0m\u001b[0munnamed_cols\u001b[0m\u001b[0;34m\u001b[0m\u001b[0;34m\u001b[0m\u001b[0m\n\u001b[1;32m   2000\u001b[0m \u001b[0;34m\u001b[0m\u001b[0m\n",
      "\u001b[0;32mpandas/_libs/parsers.pyx\u001b[0m in \u001b[0;36mpandas._libs.parsers.TextReader.__cinit__\u001b[0;34m()\u001b[0m\n",
      "\u001b[0;32mpandas/_libs/parsers.pyx\u001b[0m in \u001b[0;36mpandas._libs.parsers.TextReader._setup_parser_source\u001b[0;34m()\u001b[0m\n",
      "\u001b[0;31mFileNotFoundError\u001b[0m: [Errno 2] No such file or directory: '2020_07_28_11_8.csv'"
     ]
    }
   ],
   "source": [
    "source = pd.read_csv('2020_07_28_11_8.csv')\n",
    "alt.Chart(source).mark_bar().encode(\n",
    "    x='type:O',\n",
    "    y='lut:Q',\n",
    "    column=alt.Column('benchmark:O',\n",
    "                     title=\"\",\n",
    "                     header=alt.Header(labelAngle=-20)),\n",
    "    color='type:O'\n",
    ")"
   ]
  },
  {
   "cell_type": "code",
   "execution_count": 12,
   "metadata": {},
   "outputs": [
    {
     "data": {
      "text/html": [
       "\n",
       "<div id=\"altair-viz-17287c638d4d436193afe7582d48ec92\"></div>\n",
       "<script type=\"text/javascript\">\n",
       "  (function(spec, embedOpt){\n",
       "    let outputDiv = document.currentScript.previousElementSibling;\n",
       "    if (outputDiv.id !== \"altair-viz-17287c638d4d436193afe7582d48ec92\") {\n",
       "      outputDiv = document.getElementById(\"altair-viz-17287c638d4d436193afe7582d48ec92\");\n",
       "    }\n",
       "    const paths = {\n",
       "      \"vega\": \"https://cdn.jsdelivr.net/npm//vega@5?noext\",\n",
       "      \"vega-lib\": \"https://cdn.jsdelivr.net/npm//vega-lib?noext\",\n",
       "      \"vega-lite\": \"https://cdn.jsdelivr.net/npm//vega-lite@4.8.1?noext\",\n",
       "      \"vega-embed\": \"https://cdn.jsdelivr.net/npm//vega-embed@6?noext\",\n",
       "    };\n",
       "\n",
       "    function loadScript(lib) {\n",
       "      return new Promise(function(resolve, reject) {\n",
       "        var s = document.createElement('script');\n",
       "        s.src = paths[lib];\n",
       "        s.async = true;\n",
       "        s.onload = () => resolve(paths[lib]);\n",
       "        s.onerror = () => reject(`Error loading script: ${paths[lib]}`);\n",
       "        document.getElementsByTagName(\"head\")[0].appendChild(s);\n",
       "      });\n",
       "    }\n",
       "\n",
       "    function showError(err) {\n",
       "      outputDiv.innerHTML = `<div class=\"error\" style=\"color:red;\">${err}</div>`;\n",
       "      throw err;\n",
       "    }\n",
       "\n",
       "    function displayChart(vegaEmbed) {\n",
       "      vegaEmbed(outputDiv, spec, embedOpt)\n",
       "        .catch(err => showError(`Javascript Error: ${err.message}<br>This usually means there's a typo in your chart specification. See the javascript console for the full traceback.`));\n",
       "    }\n",
       "\n",
       "    if(typeof define === \"function\" && define.amd) {\n",
       "      requirejs.config({paths});\n",
       "      require([\"vega-embed\"], displayChart, err => showError(`Error loading script: ${err.message}`));\n",
       "    } else if (typeof vegaEmbed === \"function\") {\n",
       "      displayChart(vegaEmbed);\n",
       "    } else {\n",
       "      loadScript(\"vega\")\n",
       "        .then(() => loadScript(\"vega-lite\"))\n",
       "        .then(() => loadScript(\"vega-embed\"))\n",
       "        .catch(showError)\n",
       "        .then(() => displayChart(vegaEmbed));\n",
       "    }\n",
       "  })({\"config\": {\"view\": {\"continuousWidth\": 400, \"continuousHeight\": 300}}, \"data\": {\"name\": \"data-e2a71d133c19e9cac27a9894d9403294\"}, \"mark\": \"bar\", \"encoding\": {\"color\": {\"type\": \"ordinal\", \"field\": \"type\"}, \"column\": {\"type\": \"ordinal\", \"field\": \"benchmark\", \"header\": {\"labelAngle\": -20}, \"title\": \"\"}, \"x\": {\"type\": \"ordinal\", \"field\": \"type\"}, \"y\": {\"type\": \"quantitative\", \"field\": \"lut\"}}, \"$schema\": \"https://vega.github.io/schema/vega-lite/v4.8.1.json\", \"datasets\": {\"data-e2a71d133c19e9cac27a9894d9403294\": [{\"benchmark\": \"dot-product\", \"type\": \"futil\", \"lut\": 97, \"dsp\": 0, \"source\": \"results/2020_07_28_16_15/\"}, {\"benchmark\": \"dot-product\", \"type\": \"hls_total\", \"lut\": 88, \"dsp\": 0, \"source\": \"results/2020_07_28_16_15/\"}, {\"benchmark\": \"dot-product\", \"type\": \"hls\", \"lut\": 48, \"dsp\": 0, \"source\": \"results/2020_07_28_16_15/\"}, {\"benchmark\": \"linear-algebra-2mm\", \"type\": \"hls\", \"lut\": 731, \"dsp\": 12, \"source\": \"results/2020_07_28_16_15/\"}, {\"benchmark\": \"linear-algebra-2mm\", \"type\": \"hls_total\", \"lut\": 771, \"dsp\": 12, \"source\": \"results/2020_07_28_16_15/\"}, {\"benchmark\": \"linear-algebra-2mm\", \"type\": \"futil\", \"lut\": 304, \"dsp\": 0, \"source\": \"results/2020_07_28_16_15/\"}, {\"benchmark\": \"linear-algebra-3mm\", \"type\": \"hls\", \"lut\": 874, \"dsp\": 9, \"source\": \"results/2020_07_28_16_15/\"}, {\"benchmark\": \"linear-algebra-3mm\", \"type\": \"hls_total\", \"lut\": 914, \"dsp\": 9, \"source\": \"results/2020_07_28_16_15/\"}, {\"benchmark\": \"linear-algebra-3mm\", \"type\": \"futil\", \"lut\": 440, \"dsp\": 0, \"source\": \"results/2020_07_28_16_15/\"}, {\"benchmark\": \"linear-algebra-atax\", \"type\": \"hls\", \"lut\": 457, \"dsp\": 6, \"source\": \"results/2020_07_28_16_15/\"}, {\"benchmark\": \"linear-algebra-atax\", \"type\": \"hls_total\", \"lut\": 497, \"dsp\": 6, \"source\": \"results/2020_07_28_16_15/\"}, {\"benchmark\": \"linear-algebra-atax\", \"type\": \"futil\", \"lut\": 321, \"dsp\": 0, \"source\": \"results/2020_07_28_16_15/\"}, {\"benchmark\": \"linear-algebra-bicg\", \"type\": \"futil\", \"lut\": 284, \"dsp\": 0, \"source\": \"results/2020_07_28_16_15/\"}, {\"benchmark\": \"linear-algebra-bicg\", \"type\": \"hls\", \"lut\": 397, \"dsp\": 6, \"source\": \"results/2020_07_28_16_15/\"}, {\"benchmark\": \"linear-algebra-bicg\", \"type\": \"hls_total\", \"lut\": 437, \"dsp\": 6, \"source\": \"results/2020_07_28_16_15/\"}, {\"benchmark\": \"linear-algebra-gemm\", \"type\": \"hls\", \"lut\": 507, \"dsp\": 9, \"source\": \"results/2020_07_28_16_15/\"}, {\"benchmark\": \"linear-algebra-gemm\", \"type\": \"hls_total\", \"lut\": 547, \"dsp\": 9, \"source\": \"results/2020_07_28_16_15/\"}, {\"benchmark\": \"linear-algebra-gemm\", \"type\": \"futil\", \"lut\": 290, \"dsp\": 0, \"source\": \"results/2020_07_28_16_15/\"}, {\"benchmark\": \"linear-algebra-gesummv\", \"type\": \"hls_total\", \"lut\": 547, \"dsp\": 12, \"source\": \"results/2020_07_28_16_15/\"}, {\"benchmark\": \"linear-algebra-gesummv\", \"type\": \"hls\", \"lut\": 507, \"dsp\": 12, \"source\": \"results/2020_07_28_16_15/\"}, {\"benchmark\": \"linear-algebra-gesummv\", \"type\": \"futil\", \"lut\": 211, \"dsp\": 0, \"source\": \"results/2020_07_28_16_15/\"}, {\"benchmark\": \"linear-algebra-mvt\", \"type\": \"hls\", \"lut\": 418, \"dsp\": 6, \"source\": \"results/2020_07_28_16_15/\"}, {\"benchmark\": \"linear-algebra-mvt\", \"type\": \"futil\", \"lut\": 254, \"dsp\": 0, \"source\": \"results/2020_07_28_16_15/\"}, {\"benchmark\": \"linear-algebra-mvt\", \"type\": \"hls_total\", \"lut\": 458, \"dsp\": 6, \"source\": \"results/2020_07_28_16_15/\"}, {\"benchmark\": \"linear-algebra-symm\", \"type\": \"futil\", \"lut\": 226, \"dsp\": 0, \"source\": \"results/2020_07_28_16_15/\"}, {\"benchmark\": \"linear-algebra-symm\", \"type\": \"hls_total\", \"lut\": 805, \"dsp\": 18, \"source\": \"results/2020_07_28_16_15/\"}, {\"benchmark\": \"linear-algebra-symm\", \"type\": \"hls\", \"lut\": 765, \"dsp\": 18, \"source\": \"results/2020_07_28_16_15/\"}, {\"benchmark\": \"linear-algebra-syr2k\", \"type\": \"futil\", \"lut\": 323, \"dsp\": 0, \"source\": \"results/2020_07_28_16_15/\"}, {\"benchmark\": \"linear-algebra-syr2k\", \"type\": \"hls_total\", \"lut\": 670, \"dsp\": 12, \"source\": \"results/2020_07_28_16_15/\"}, {\"benchmark\": \"linear-algebra-syr2k\", \"type\": \"hls\", \"lut\": 630, \"dsp\": 12, \"source\": \"results/2020_07_28_16_15/\"}, {\"benchmark\": \"linear-algebra-syrk\", \"type\": \"futil\", \"lut\": 357, \"dsp\": 0, \"source\": \"results/2020_07_28_16_15/\"}, {\"benchmark\": \"linear-algebra-syrk\", \"type\": \"hls_total\", \"lut\": 583, \"dsp\": 9, \"source\": \"results/2020_07_28_16_15/\"}, {\"benchmark\": \"linear-algebra-syrk\", \"type\": \"hls\", \"lut\": 543, \"dsp\": 9, \"source\": \"results/2020_07_28_16_15/\"}, {\"benchmark\": \"linear-algebra-trisolv\", \"type\": \"hls\", \"lut\": 609, \"dsp\": 3, \"source\": \"results/2020_07_28_16_15/\"}, {\"benchmark\": \"linear-algebra-trisolv\", \"type\": \"futil\", \"lut\": 175, \"dsp\": 0, \"source\": \"results/2020_07_28_16_15/\"}, {\"benchmark\": \"linear-algebra-trisolv\", \"type\": \"hls_total\", \"lut\": 649, \"dsp\": 3, \"source\": \"results/2020_07_28_16_15/\"}, {\"benchmark\": \"linear-algebra-trmm\", \"type\": \"futil\", \"lut\": 191, \"dsp\": 0, \"source\": \"results/2020_07_28_16_15/\"}, {\"benchmark\": \"linear-algebra-trmm\", \"type\": \"hls_total\", \"lut\": 419, \"dsp\": 6, \"source\": \"results/2020_07_28_16_15/\"}, {\"benchmark\": \"linear-algebra-trmm\", \"type\": \"hls\", \"lut\": 379, \"dsp\": 6, \"source\": \"results/2020_07_28_16_15/\"}]}}, {\"mode\": \"vega-lite\"});\n",
       "</script>"
      ],
      "text/plain": [
       "alt.Chart(...)"
      ]
     },
     "execution_count": 12,
     "metadata": {},
     "output_type": "execute_result"
    }
   ],
   "source": [
    "source = pd.read_csv('2020_07_28_16_15.csv')\n",
    "alt.Chart(source.sort_values(by='benchmark')).mark_bar().encode(\n",
    "    x='type:O',\n",
    "    y='lut:Q',\n",
    "    column=alt.Column('benchmark:O',\n",
    "                     title=\"\",\n",
    "                     header=alt.Header(labelAngle=-20)),\n",
    "    color='type:O'\n",
    ")"
   ]
  },
  {
   "cell_type": "code",
   "execution_count": 8,
   "metadata": {},
   "outputs": [
    {
     "data": {
      "text/html": [
       "\n",
       "<div id=\"altair-viz-6617f24144a147f197b195d2d7e88ae5\"></div>\n",
       "<script type=\"text/javascript\">\n",
       "  (function(spec, embedOpt){\n",
       "    let outputDiv = document.currentScript.previousElementSibling;\n",
       "    if (outputDiv.id !== \"altair-viz-6617f24144a147f197b195d2d7e88ae5\") {\n",
       "      outputDiv = document.getElementById(\"altair-viz-6617f24144a147f197b195d2d7e88ae5\");\n",
       "    }\n",
       "    const paths = {\n",
       "      \"vega\": \"https://cdn.jsdelivr.net/npm//vega@5?noext\",\n",
       "      \"vega-lib\": \"https://cdn.jsdelivr.net/npm//vega-lib?noext\",\n",
       "      \"vega-lite\": \"https://cdn.jsdelivr.net/npm//vega-lite@4.8.1?noext\",\n",
       "      \"vega-embed\": \"https://cdn.jsdelivr.net/npm//vega-embed@6?noext\",\n",
       "    };\n",
       "\n",
       "    function loadScript(lib) {\n",
       "      return new Promise(function(resolve, reject) {\n",
       "        var s = document.createElement('script');\n",
       "        s.src = paths[lib];\n",
       "        s.async = true;\n",
       "        s.onload = () => resolve(paths[lib]);\n",
       "        s.onerror = () => reject(`Error loading script: ${paths[lib]}`);\n",
       "        document.getElementsByTagName(\"head\")[0].appendChild(s);\n",
       "      });\n",
       "    }\n",
       "\n",
       "    function showError(err) {\n",
       "      outputDiv.innerHTML = `<div class=\"error\" style=\"color:red;\">${err}</div>`;\n",
       "      throw err;\n",
       "    }\n",
       "\n",
       "    function displayChart(vegaEmbed) {\n",
       "      vegaEmbed(outputDiv, spec, embedOpt)\n",
       "        .catch(err => showError(`Javascript Error: ${err.message}<br>This usually means there's a typo in your chart specification. See the javascript console for the full traceback.`));\n",
       "    }\n",
       "\n",
       "    if(typeof define === \"function\" && define.amd) {\n",
       "      requirejs.config({paths});\n",
       "      require([\"vega-embed\"], displayChart, err => showError(`Error loading script: ${err.message}`));\n",
       "    } else if (typeof vegaEmbed === \"function\") {\n",
       "      displayChart(vegaEmbed);\n",
       "    } else {\n",
       "      loadScript(\"vega\")\n",
       "        .then(() => loadScript(\"vega-lite\"))\n",
       "        .then(() => loadScript(\"vega-embed\"))\n",
       "        .catch(showError)\n",
       "        .then(() => displayChart(vegaEmbed));\n",
       "    }\n",
       "  })({\"config\": {\"view\": {\"continuousWidth\": 400, \"continuousHeight\": 300}}, \"data\": {\"name\": \"data-052d04317320386ed809a9abe7ee793b\"}, \"mark\": \"bar\", \"encoding\": {\"color\": {\"type\": \"ordinal\", \"field\": \"type\"}, \"column\": {\"type\": \"ordinal\", \"field\": \"benchmark\", \"header\": {\"labelAngle\": -20}, \"title\": \"\"}, \"x\": {\"type\": \"ordinal\", \"field\": \"type\"}, \"y\": {\"type\": \"quantitative\", \"field\": \"lut\"}}, \"$schema\": \"https://vega.github.io/schema/vega-lite/v4.8.1.json\", \"datasets\": {\"data-052d04317320386ed809a9abe7ee793b\": [{\"benchmark\": \"dot-product\", \"type\": \"hls_total\", \"lut\": 88, \"dsp\": 0, \"source\": \"results/2020_07_28_16_33\"}, {\"benchmark\": \"dot-product\", \"type\": \"futil\", \"lut\": 97, \"dsp\": 0, \"source\": \"results/2020_07_28_16_33\"}, {\"benchmark\": \"dot-product\", \"type\": \"hls\", \"lut\": 48, \"dsp\": 0, \"source\": \"results/2020_07_28_16_33\"}, {\"benchmark\": \"linear-algebra-2mm\", \"type\": \"hls\", \"lut\": 731, \"dsp\": 12, \"source\": \"results/2020_07_28_16_33\"}, {\"benchmark\": \"linear-algebra-2mm\", \"type\": \"hls_total\", \"lut\": 771, \"dsp\": 12, \"source\": \"results/2020_07_28_16_33\"}, {\"benchmark\": \"linear-algebra-2mm\", \"type\": \"futil\", \"lut\": 304, \"dsp\": 0, \"source\": \"results/2020_07_28_16_33\"}, {\"benchmark\": \"linear-algebra-atax\", \"type\": \"hls_total\", \"lut\": 497, \"dsp\": 6, \"source\": \"results/2020_07_28_16_33\"}, {\"benchmark\": \"linear-algebra-atax\", \"type\": \"hls\", \"lut\": 457, \"dsp\": 6, \"source\": \"results/2020_07_28_16_33\"}, {\"benchmark\": \"linear-algebra-atax\", \"type\": \"futil\", \"lut\": 321, \"dsp\": 0, \"source\": \"results/2020_07_28_16_33\"}, {\"benchmark\": \"linear-algebra-bicg\", \"type\": \"futil\", \"lut\": 285, \"dsp\": 0, \"source\": \"results/2020_07_28_16_33\"}, {\"benchmark\": \"linear-algebra-bicg\", \"type\": \"hls\", \"lut\": 397, \"dsp\": 6, \"source\": \"results/2020_07_28_16_33\"}, {\"benchmark\": \"linear-algebra-bicg\", \"type\": \"hls_total\", \"lut\": 437, \"dsp\": 6, \"source\": \"results/2020_07_28_16_33\"}, {\"benchmark\": \"linear-algebra-gemm\", \"type\": \"futil\", \"lut\": 290, \"dsp\": 0, \"source\": \"results/2020_07_28_16_33\"}, {\"benchmark\": \"linear-algebra-gemm\", \"type\": \"hls_total\", \"lut\": 547, \"dsp\": 9, \"source\": \"results/2020_07_28_16_33\"}, {\"benchmark\": \"linear-algebra-gemm\", \"type\": \"hls\", \"lut\": 507, \"dsp\": 9, \"source\": \"results/2020_07_28_16_33\"}, {\"benchmark\": \"linear-algebra-gemver\", \"type\": \"hls\", \"lut\": 963, \"dsp\": 18, \"source\": \"results/2020_07_28_16_33\"}, {\"benchmark\": \"linear-algebra-gemver\", \"type\": \"hls_total\", \"lut\": 1003, \"dsp\": 18, \"source\": \"results/2020_07_28_16_33\"}, {\"benchmark\": \"linear-algebra-gemver\", \"type\": \"futil\", \"lut\": 446, \"dsp\": 0, \"source\": \"results/2020_07_28_16_33\"}, {\"benchmark\": \"linear-algebra-gesummv\", \"type\": \"futil\", \"lut\": 212, \"dsp\": 0, \"source\": \"results/2020_07_28_16_33\"}, {\"benchmark\": \"linear-algebra-gesummv\", \"type\": \"hls_total\", \"lut\": 547, \"dsp\": 12, \"source\": \"results/2020_07_28_16_33\"}, {\"benchmark\": \"linear-algebra-gesummv\", \"type\": \"hls\", \"lut\": 507, \"dsp\": 12, \"source\": \"results/2020_07_28_16_33\"}, {\"benchmark\": \"linear-algebra-lu\", \"type\": \"hls_total\", \"lut\": 959, \"dsp\": 6, \"source\": \"results/2020_07_28_16_33\"}, {\"benchmark\": \"linear-algebra-lu\", \"type\": \"hls\", \"lut\": 919, \"dsp\": 6, \"source\": \"results/2020_07_28_16_33\"}, {\"benchmark\": \"linear-algebra-lu\", \"type\": \"futil\", \"lut\": 403, \"dsp\": 0, \"source\": \"results/2020_07_28_16_33\"}, {\"benchmark\": \"linear-algebra-mvt\", \"type\": \"hls\", \"lut\": 418, \"dsp\": 6, \"source\": \"results/2020_07_28_16_33\"}, {\"benchmark\": \"linear-algebra-mvt\", \"type\": \"futil\", \"lut\": 254, \"dsp\": 0, \"source\": \"results/2020_07_28_16_33\"}, {\"benchmark\": \"linear-algebra-mvt\", \"type\": \"hls_total\", \"lut\": 458, \"dsp\": 6, \"source\": \"results/2020_07_28_16_33\"}, {\"benchmark\": \"linear-algebra-symm\", \"type\": \"futil\", \"lut\": 226, \"dsp\": 0, \"source\": \"results/2020_07_28_16_33\"}, {\"benchmark\": \"linear-algebra-symm\", \"type\": \"hls_total\", \"lut\": 805, \"dsp\": 18, \"source\": \"results/2020_07_28_16_33\"}, {\"benchmark\": \"linear-algebra-symm\", \"type\": \"hls\", \"lut\": 765, \"dsp\": 18, \"source\": \"results/2020_07_28_16_33\"}, {\"benchmark\": \"linear-algebra-syrk\", \"type\": \"futil\", \"lut\": 357, \"dsp\": 0, \"source\": \"results/2020_07_28_16_33\"}, {\"benchmark\": \"linear-algebra-syrk\", \"type\": \"hls_total\", \"lut\": 583, \"dsp\": 9, \"source\": \"results/2020_07_28_16_33\"}, {\"benchmark\": \"linear-algebra-syrk\", \"type\": \"hls\", \"lut\": 543, \"dsp\": 9, \"source\": \"results/2020_07_28_16_33\"}, {\"benchmark\": \"linear-algebra-trisolv\", \"type\": \"futil\", \"lut\": 175, \"dsp\": 0, \"source\": \"results/2020_07_28_16_33\"}, {\"benchmark\": \"linear-algebra-trisolv\", \"type\": \"hls_total\", \"lut\": 649, \"dsp\": 3, \"source\": \"results/2020_07_28_16_33\"}, {\"benchmark\": \"linear-algebra-trisolv\", \"type\": \"hls\", \"lut\": 609, \"dsp\": 3, \"source\": \"results/2020_07_28_16_33\"}, {\"benchmark\": \"linear-algebra-trmm\", \"type\": \"futil\", \"lut\": 191, \"dsp\": 0, \"source\": \"results/2020_07_28_16_33\"}, {\"benchmark\": \"linear-algebra-trmm\", \"type\": \"hls_total\", \"lut\": 419, \"dsp\": 6, \"source\": \"results/2020_07_28_16_33\"}, {\"benchmark\": \"linear-algebra-trmm\", \"type\": \"hls\", \"lut\": 379, \"dsp\": 6, \"source\": \"results/2020_07_28_16_33\"}]}}, {\"mode\": \"vega-lite\"});\n",
       "</script>"
      ],
      "text/plain": [
       "alt.Chart(...)"
      ]
     },
     "execution_count": 8,
     "metadata": {},
     "output_type": "execute_result"
    }
   ],
   "source": [
    "source = pd.read_csv('2020_07_28_16_33.csv')\n",
    "alt.Chart(source.sort_values(by='benchmark')).mark_bar().encode(\n",
    "    x='type:O',\n",
    "    y='lut:Q',\n",
    "    column=alt.Column('benchmark:O',\n",
    "                     title=\"\",\n",
    "                     header=alt.Header(labelAngle=-20)),\n",
    "    color='type:O'\n",
    ")"
   ]
  },
  {
   "cell_type": "code",
   "execution_count": 51,
   "metadata": {},
   "outputs": [
    {
     "data": {
      "text/html": [
       "\n",
       "<div id=\"altair-viz-9b54ec514f874a74b60296fead51868e\"></div>\n",
       "<script type=\"text/javascript\">\n",
       "  (function(spec, embedOpt){\n",
       "    let outputDiv = document.currentScript.previousElementSibling;\n",
       "    if (outputDiv.id !== \"altair-viz-9b54ec514f874a74b60296fead51868e\") {\n",
       "      outputDiv = document.getElementById(\"altair-viz-9b54ec514f874a74b60296fead51868e\");\n",
       "    }\n",
       "    const paths = {\n",
       "      \"vega\": \"https://cdn.jsdelivr.net/npm//vega@5?noext\",\n",
       "      \"vega-lib\": \"https://cdn.jsdelivr.net/npm//vega-lib?noext\",\n",
       "      \"vega-lite\": \"https://cdn.jsdelivr.net/npm//vega-lite@4.8.1?noext\",\n",
       "      \"vega-embed\": \"https://cdn.jsdelivr.net/npm//vega-embed@6?noext\",\n",
       "    };\n",
       "\n",
       "    function loadScript(lib) {\n",
       "      return new Promise(function(resolve, reject) {\n",
       "        var s = document.createElement('script');\n",
       "        s.src = paths[lib];\n",
       "        s.async = true;\n",
       "        s.onload = () => resolve(paths[lib]);\n",
       "        s.onerror = () => reject(`Error loading script: ${paths[lib]}`);\n",
       "        document.getElementsByTagName(\"head\")[0].appendChild(s);\n",
       "      });\n",
       "    }\n",
       "\n",
       "    function showError(err) {\n",
       "      outputDiv.innerHTML = `<div class=\"error\" style=\"color:red;\">${err}</div>`;\n",
       "      throw err;\n",
       "    }\n",
       "\n",
       "    function displayChart(vegaEmbed) {\n",
       "      vegaEmbed(outputDiv, spec, embedOpt)\n",
       "        .catch(err => showError(`Javascript Error: ${err.message}<br>This usually means there's a typo in your chart specification. See the javascript console for the full traceback.`));\n",
       "    }\n",
       "\n",
       "    if(typeof define === \"function\" && define.amd) {\n",
       "      requirejs.config({paths});\n",
       "      require([\"vega-embed\"], displayChart, err => showError(`Error loading script: ${err.message}`));\n",
       "    } else if (typeof vegaEmbed === \"function\") {\n",
       "      displayChart(vegaEmbed);\n",
       "    } else {\n",
       "      loadScript(\"vega\")\n",
       "        .then(() => loadScript(\"vega-lite\"))\n",
       "        .then(() => loadScript(\"vega-embed\"))\n",
       "        .catch(showError)\n",
       "        .then(() => displayChart(vegaEmbed));\n",
       "    }\n",
       "  })({\"config\": {\"view\": {\"continuousWidth\": 400, \"continuousHeight\": 300}}, \"data\": {\"name\": \"data-1341ef99d0d58848d7eb0f1a6adba067\"}, \"mark\": \"bar\", \"encoding\": {\"color\": {\"type\": \"ordinal\", \"field\": \"type\"}, \"column\": {\"type\": \"ordinal\", \"field\": \"benchmark\", \"header\": {\"labelAngle\": -20}, \"title\": \"\"}, \"x\": {\"type\": \"ordinal\", \"field\": \"type\"}, \"y\": {\"type\": \"quantitative\", \"field\": \"dsp\"}}, \"$schema\": \"https://vega.github.io/schema/vega-lite/v4.8.1.json\", \"datasets\": {\"data-1341ef99d0d58848d7eb0f1a6adba067\": [{\"benchmark\": \"linear-algebra-3mm\", \"type\": \"hls\", \"lut\": 874, \"dsp\": 9, \"source\": \"results/2020_07_28_16_15/\"}, {\"benchmark\": \"linear-algebra-3mm\", \"type\": \"hls_total\", \"lut\": 914, \"dsp\": 9, \"source\": \"results/2020_07_28_16_15/\"}, {\"benchmark\": \"linear-algebra-3mm\", \"type\": \"futil\", \"lut\": 440, \"dsp\": 0, \"source\": \"results/2020_07_28_16_15/\"}, {\"benchmark\": \"linear-algebra-symm\", \"type\": \"hls\", \"lut\": 765, \"dsp\": 18, \"source\": \"results/2020_07_28_16_15/\"}, {\"benchmark\": \"linear-algebra-symm\", \"type\": \"hls_total\", \"lut\": 805, \"dsp\": 18, \"source\": \"results/2020_07_28_16_15/\"}, {\"benchmark\": \"linear-algebra-symm\", \"type\": \"futil\", \"lut\": 226, \"dsp\": 0, \"source\": \"results/2020_07_28_16_15/\"}, {\"benchmark\": \"linear-algebra-2mm\", \"type\": \"hls\", \"lut\": 731, \"dsp\": 12, \"source\": \"results/2020_07_28_16_15/\"}, {\"benchmark\": \"linear-algebra-2mm\", \"type\": \"hls_total\", \"lut\": 771, \"dsp\": 12, \"source\": \"results/2020_07_28_16_15/\"}, {\"benchmark\": \"linear-algebra-2mm\", \"type\": \"futil\", \"lut\": 304, \"dsp\": 0, \"source\": \"results/2020_07_28_16_15/\"}, {\"benchmark\": \"linear-algebra-trmm\", \"type\": \"hls\", \"lut\": 379, \"dsp\": 6, \"source\": \"results/2020_07_28_16_15/\"}, {\"benchmark\": \"linear-algebra-trmm\", \"type\": \"hls_total\", \"lut\": 419, \"dsp\": 6, \"source\": \"results/2020_07_28_16_15/\"}, {\"benchmark\": \"linear-algebra-trmm\", \"type\": \"futil\", \"lut\": 191, \"dsp\": 0, \"source\": \"results/2020_07_28_16_15/\"}, {\"benchmark\": \"linear-algebra-syr2k\", \"type\": \"hls\", \"lut\": 630, \"dsp\": 12, \"source\": \"results/2020_07_28_16_15/\"}, {\"benchmark\": \"linear-algebra-syr2k\", \"type\": \"hls_total\", \"lut\": 670, \"dsp\": 12, \"source\": \"results/2020_07_28_16_15/\"}, {\"benchmark\": \"linear-algebra-syr2k\", \"type\": \"futil\", \"lut\": 323, \"dsp\": 0, \"source\": \"results/2020_07_28_16_15/\"}, {\"benchmark\": \"linear-algebra-syrk\", \"type\": \"hls\", \"lut\": 543, \"dsp\": 9, \"source\": \"results/2020_07_28_16_15/\"}, {\"benchmark\": \"linear-algebra-syrk\", \"type\": \"hls_total\", \"lut\": 583, \"dsp\": 9, \"source\": \"results/2020_07_28_16_15/\"}, {\"benchmark\": \"linear-algebra-syrk\", \"type\": \"futil\", \"lut\": 357, \"dsp\": 0, \"source\": \"results/2020_07_28_16_15/\"}, {\"benchmark\": \"linear-algebra-trisolv\", \"type\": \"hls\", \"lut\": 609, \"dsp\": 3, \"source\": \"results/2020_07_28_16_15/\"}, {\"benchmark\": \"linear-algebra-trisolv\", \"type\": \"hls_total\", \"lut\": 649, \"dsp\": 3, \"source\": \"results/2020_07_28_16_15/\"}, {\"benchmark\": \"linear-algebra-trisolv\", \"type\": \"futil\", \"lut\": 175, \"dsp\": 0, \"source\": \"results/2020_07_28_16_15/\"}, {\"benchmark\": \"linear-algebra-bicg\", \"type\": \"hls\", \"lut\": 397, \"dsp\": 6, \"source\": \"results/2020_07_28_16_15/\"}, {\"benchmark\": \"linear-algebra-bicg\", \"type\": \"hls_total\", \"lut\": 437, \"dsp\": 6, \"source\": \"results/2020_07_28_16_15/\"}, {\"benchmark\": \"linear-algebra-bicg\", \"type\": \"futil\", \"lut\": 284, \"dsp\": 0, \"source\": \"results/2020_07_28_16_15/\"}, {\"benchmark\": \"linear-algebra-atax\", \"type\": \"hls\", \"lut\": 457, \"dsp\": 6, \"source\": \"results/2020_07_28_16_15/\"}, {\"benchmark\": \"linear-algebra-atax\", \"type\": \"hls_total\", \"lut\": 497, \"dsp\": 6, \"source\": \"results/2020_07_28_16_15/\"}, {\"benchmark\": \"linear-algebra-atax\", \"type\": \"futil\", \"lut\": 321, \"dsp\": 0, \"source\": \"results/2020_07_28_16_15/\"}, {\"benchmark\": \"linear-algebra-gesummv\", \"type\": \"hls\", \"lut\": 507, \"dsp\": 12, \"source\": \"results/2020_07_28_16_15/\"}, {\"benchmark\": \"linear-algebra-gesummv\", \"type\": \"hls_total\", \"lut\": 547, \"dsp\": 12, \"source\": \"results/2020_07_28_16_15/\"}, {\"benchmark\": \"linear-algebra-gesummv\", \"type\": \"futil\", \"lut\": 211, \"dsp\": 0, \"source\": \"results/2020_07_28_16_15/\"}, {\"benchmark\": \"linear-algebra-gemm\", \"type\": \"hls\", \"lut\": 507, \"dsp\": 9, \"source\": \"results/2020_07_28_16_15/\"}, {\"benchmark\": \"linear-algebra-gemm\", \"type\": \"hls_total\", \"lut\": 547, \"dsp\": 9, \"source\": \"results/2020_07_28_16_15/\"}, {\"benchmark\": \"linear-algebra-gemm\", \"type\": \"futil\", \"lut\": 290, \"dsp\": 0, \"source\": \"results/2020_07_28_16_15/\"}, {\"benchmark\": \"dot-product\", \"type\": \"hls\", \"lut\": 48, \"dsp\": 0, \"source\": \"results/2020_07_28_16_15/\"}, {\"benchmark\": \"dot-product\", \"type\": \"hls_total\", \"lut\": 88, \"dsp\": 0, \"source\": \"results/2020_07_28_16_15/\"}, {\"benchmark\": \"dot-product\", \"type\": \"futil\", \"lut\": 97, \"dsp\": 0, \"source\": \"results/2020_07_28_16_15/\"}, {\"benchmark\": \"linear-algebra-mvt\", \"type\": \"hls\", \"lut\": 418, \"dsp\": 6, \"source\": \"results/2020_07_28_16_15/\"}, {\"benchmark\": \"linear-algebra-mvt\", \"type\": \"hls_total\", \"lut\": 458, \"dsp\": 6, \"source\": \"results/2020_07_28_16_15/\"}, {\"benchmark\": \"linear-algebra-mvt\", \"type\": \"futil\", \"lut\": 254, \"dsp\": 0, \"source\": \"results/2020_07_28_16_15/\"}]}}, {\"mode\": \"vega-lite\"});\n",
       "</script>"
      ],
      "text/plain": [
       "alt.Chart(...)"
      ]
     },
     "execution_count": 51,
     "metadata": {},
     "output_type": "execute_result"
    }
   ],
   "source": [
    "source = pd.read_csv('2020_07_28_16_15.csv')\n",
    "alt.Chart(source).mark_bar().encode(\n",
    "    x='type:O',\n",
    "    y='dsp:Q',\n",
    "    column=alt.Column('benchmark:O',\n",
    "                     title=\"\",\n",
    "                     header=alt.Header(labelAngle=-20)),\n",
    "    color='type:O'\n",
    ")\n"
   ]
  },
  {
   "cell_type": "code",
   "execution_count": null,
   "metadata": {},
   "outputs": [],
   "source": []
  }
 ],
 "metadata": {
  "kernelspec": {
   "display_name": "Python 3",
   "language": "python",
   "name": "python3"
  },
  "language_info": {
   "codemirror_mode": {
    "name": "ipython",
    "version": 3
   },
   "file_extension": ".py",
   "mimetype": "text/x-python",
   "name": "python",
   "nbconvert_exporter": "python",
   "pygments_lexer": "ipython3",
   "version": "3.8.2"
  }
 },
 "nbformat": 4,
 "nbformat_minor": 4
}
