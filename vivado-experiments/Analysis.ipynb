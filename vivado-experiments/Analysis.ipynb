{
 "cells": [
  {
   "cell_type": "code",
   "execution_count": 2,
   "metadata": {},
   "outputs": [],
   "source": [
    "import altair as alt\n",
    "from vega_datasets import data as v\n",
    "from pathlib import Path\n",
    "import json\n",
    "import pandas as pd"
   ]
  },
  {
   "cell_type": "code",
   "execution_count": 23,
   "metadata": {},
   "outputs": [
    {
     "data": {
      "text/plain": [
       "Data({\n",
       "  values: [{'benchmark': 'gemver', 'type': 'hls', 'value': '3193'}, {'benchmark': 'gemver', 'type': 'futil', 'value': '114'}, {'benchmark': 'gemm', 'type': 'hls', 'value': '1839'}, {'benchmark': 'gemm', 'type': 'futil', 'value': '75'}, {'benchmark': 'trisolv', 'type': 'hls', 'value': '1830'}, {'benchmark': 'trisolv', 'type': 'futil', 'value': '48'}, {'benchmark': '2mm', 'type': 'hls', 'value': '2267'}, {'benchmark': '2mm', 'type': 'futil', 'value': '115'}, {'benchmark': 'trmm', 'type': 'hls', 'value': '1498'}, {'benchmark': 'trmm', 'type': 'futil', 'value': '68'}, {'benchmark': 'gesummv', 'type': 'hls', 'value': '2112'}, {'benchmark': 'gesummv', 'type': 'futil', 'value': '51'}, {'benchmark': 'symm', 'type': 'hls', 'value': '2186'}, {'benchmark': 'symm', 'type': 'futil', 'value': '60'}, {'benchmark': 'product', 'type': 'hls', 'value': '216'}, {'benchmark': 'product', 'type': 'futil', 'value': '17'}, {'benchmark': 'mvt', 'type': 'hls', 'value': '1816'}, {'benchmark': 'mvt', 'type': 'futil', 'value': '66'}, {'benchmark': '3mm', 'type': 'hls', 'value': '2572'}, {'benchmark': '3mm', 'type': 'futil', 'value': '168'}, {'benchmark': 'atax', 'type': 'hls', 'value': '1769'}, {'benchmark': 'atax', 'type': 'futil', 'value': '73'}, {'benchmark': 'bicg', 'type': 'hls', 'value': '1804'}, {'benchmark': 'bicg', 'type': 'futil', 'value': '75'}, {'benchmark': 'lu', 'type': 'hls', 'value': '2078'}, {'benchmark': 'lu', 'type': 'futil', 'value': '128'}, {'benchmark': 'syrk', 'type': 'hls', 'value': '1825'}, {'benchmark': 'syrk', 'type': 'futil', 'value': '87'}, {'benchmark': 'syr2k', 'type': 'hls', 'value': '2068'}, {'benchmark': 'syr2k', 'type': 'futil', 'value': '92'}]\n",
       "})"
      ]
     },
     "execution_count": 23,
     "metadata": {},
     "output_type": "execute_result"
    }
   ],
   "source": [
    "data = []\n",
    "for f in Path('.').glob('*.fuse'):\n",
    "    hls = json.load((Path(f.stem) / \"hls.json\").open())\n",
    "    futil = json.load((Path(f.stem) / \"futil.json\").open())\n",
    "    data.append({'benchmark': f.stem.split('-')[-1], 'type': 'hls', 'value': hls['LUT']})\n",
    "    data.append({'benchmark': f.stem.split('-')[-1], 'type': 'futil', 'value': futil['LUT']})\n",
    "alt.Data(values=data)"
   ]
  },
  {
   "cell_type": "code",
   "execution_count": 24,
   "metadata": {},
   "outputs": [
    {
     "data": {
      "text/html": [
       "\n",
       "<div id=\"altair-viz-9ede6bab8d614d95aaa677878ad5eb8b\"></div>\n",
       "<script type=\"text/javascript\">\n",
       "  (function(spec, embedOpt){\n",
       "    let outputDiv = document.currentScript.previousElementSibling;\n",
       "    if (outputDiv.id !== \"altair-viz-9ede6bab8d614d95aaa677878ad5eb8b\") {\n",
       "      outputDiv = document.getElementById(\"altair-viz-9ede6bab8d614d95aaa677878ad5eb8b\");\n",
       "    }\n",
       "    const paths = {\n",
       "      \"vega\": \"https://cdn.jsdelivr.net/npm//vega@5?noext\",\n",
       "      \"vega-lib\": \"https://cdn.jsdelivr.net/npm//vega-lib?noext\",\n",
       "      \"vega-lite\": \"https://cdn.jsdelivr.net/npm//vega-lite@4.8.1?noext\",\n",
       "      \"vega-embed\": \"https://cdn.jsdelivr.net/npm//vega-embed@6?noext\",\n",
       "    };\n",
       "\n",
       "    function loadScript(lib) {\n",
       "      return new Promise(function(resolve, reject) {\n",
       "        var s = document.createElement('script');\n",
       "        s.src = paths[lib];\n",
       "        s.async = true;\n",
       "        s.onload = () => resolve(paths[lib]);\n",
       "        s.onerror = () => reject(`Error loading script: ${paths[lib]}`);\n",
       "        document.getElementsByTagName(\"head\")[0].appendChild(s);\n",
       "      });\n",
       "    }\n",
       "\n",
       "    function showError(err) {\n",
       "      outputDiv.innerHTML = `<div class=\"error\" style=\"color:red;\">${err}</div>`;\n",
       "      throw err;\n",
       "    }\n",
       "\n",
       "    function displayChart(vegaEmbed) {\n",
       "      vegaEmbed(outputDiv, spec, embedOpt)\n",
       "        .catch(err => showError(`Javascript Error: ${err.message}<br>This usually means there's a typo in your chart specification. See the javascript console for the full traceback.`));\n",
       "    }\n",
       "\n",
       "    if(typeof define === \"function\" && define.amd) {\n",
       "      requirejs.config({paths});\n",
       "      require([\"vega-embed\"], displayChart, err => showError(`Error loading script: ${err.message}`));\n",
       "    } else if (typeof vegaEmbed === \"function\") {\n",
       "      displayChart(vegaEmbed);\n",
       "    } else {\n",
       "      loadScript(\"vega\")\n",
       "        .then(() => loadScript(\"vega-lite\"))\n",
       "        .then(() => loadScript(\"vega-embed\"))\n",
       "        .catch(showError)\n",
       "        .then(() => displayChart(vegaEmbed));\n",
       "    }\n",
       "  })({\"config\": {\"view\": {\"continuousWidth\": 400, \"continuousHeight\": 300}}, \"data\": {\"values\": [{\"benchmark\": \"gemver\", \"type\": \"hls\", \"value\": \"3193\"}, {\"benchmark\": \"gemver\", \"type\": \"futil\", \"value\": \"114\"}, {\"benchmark\": \"gemm\", \"type\": \"hls\", \"value\": \"1839\"}, {\"benchmark\": \"gemm\", \"type\": \"futil\", \"value\": \"75\"}, {\"benchmark\": \"trisolv\", \"type\": \"hls\", \"value\": \"1830\"}, {\"benchmark\": \"trisolv\", \"type\": \"futil\", \"value\": \"48\"}, {\"benchmark\": \"2mm\", \"type\": \"hls\", \"value\": \"2267\"}, {\"benchmark\": \"2mm\", \"type\": \"futil\", \"value\": \"115\"}, {\"benchmark\": \"trmm\", \"type\": \"hls\", \"value\": \"1498\"}, {\"benchmark\": \"trmm\", \"type\": \"futil\", \"value\": \"68\"}, {\"benchmark\": \"gesummv\", \"type\": \"hls\", \"value\": \"2112\"}, {\"benchmark\": \"gesummv\", \"type\": \"futil\", \"value\": \"51\"}, {\"benchmark\": \"symm\", \"type\": \"hls\", \"value\": \"2186\"}, {\"benchmark\": \"symm\", \"type\": \"futil\", \"value\": \"60\"}, {\"benchmark\": \"product\", \"type\": \"hls\", \"value\": \"216\"}, {\"benchmark\": \"product\", \"type\": \"futil\", \"value\": \"17\"}, {\"benchmark\": \"mvt\", \"type\": \"hls\", \"value\": \"1816\"}, {\"benchmark\": \"mvt\", \"type\": \"futil\", \"value\": \"66\"}, {\"benchmark\": \"3mm\", \"type\": \"hls\", \"value\": \"2572\"}, {\"benchmark\": \"3mm\", \"type\": \"futil\", \"value\": \"168\"}, {\"benchmark\": \"atax\", \"type\": \"hls\", \"value\": \"1769\"}, {\"benchmark\": \"atax\", \"type\": \"futil\", \"value\": \"73\"}, {\"benchmark\": \"bicg\", \"type\": \"hls\", \"value\": \"1804\"}, {\"benchmark\": \"bicg\", \"type\": \"futil\", \"value\": \"75\"}, {\"benchmark\": \"lu\", \"type\": \"hls\", \"value\": \"2078\"}, {\"benchmark\": \"lu\", \"type\": \"futil\", \"value\": \"128\"}, {\"benchmark\": \"syrk\", \"type\": \"hls\", \"value\": \"1825\"}, {\"benchmark\": \"syrk\", \"type\": \"futil\", \"value\": \"87\"}, {\"benchmark\": \"syr2k\", \"type\": \"hls\", \"value\": \"2068\"}, {\"benchmark\": \"syr2k\", \"type\": \"futil\", \"value\": \"92\"}]}, \"mark\": \"bar\", \"encoding\": {\"color\": {\"type\": \"ordinal\", \"field\": \"type\"}, \"column\": {\"type\": \"ordinal\", \"field\": \"benchmark\"}, \"x\": {\"type\": \"ordinal\", \"field\": \"type\"}, \"y\": {\"type\": \"quantitative\", \"field\": \"value\"}}, \"selection\": {\"selector015\": {\"type\": \"interval\", \"bind\": \"scales\", \"encodings\": [\"x\", \"y\"]}}, \"$schema\": \"https://vega.github.io/schema/vega-lite/v4.8.1.json\"}, {\"mode\": \"vega-lite\"});\n",
       "</script>"
      ],
      "text/plain": [
       "alt.Chart(...)"
      ]
     },
     "execution_count": 24,
     "metadata": {},
     "output_type": "execute_result"
    }
   ],
   "source": [
    "source = alt.Data(values=data)\n",
    "\n",
    "alt.Chart(source).mark_bar().encode(\n",
    "    x='type:O',\n",
    "    y='value:Q',\n",
    "    column='benchmark:O',\n",
    "    color='type:O'\n",
    ").interactive()\n"
   ]
  },
  {
   "cell_type": "code",
   "execution_count": 5,
   "metadata": {},
   "outputs": [
    {
     "data": {
      "text/html": [
       "<div>\n",
       "<style scoped>\n",
       "    .dataframe tbody tr th:only-of-type {\n",
       "        vertical-align: middle;\n",
       "    }\n",
       "\n",
       "    .dataframe tbody tr th {\n",
       "        vertical-align: top;\n",
       "    }\n",
       "\n",
       "    .dataframe thead th {\n",
       "        text-align: right;\n",
       "    }\n",
       "</style>\n",
       "<table border=\"1\" class=\"dataframe\">\n",
       "  <thead>\n",
       "    <tr style=\"text-align: right;\">\n",
       "      <th></th>\n",
       "      <th>yield</th>\n",
       "      <th>variety</th>\n",
       "      <th>year</th>\n",
       "      <th>site</th>\n",
       "    </tr>\n",
       "  </thead>\n",
       "  <tbody>\n",
       "    <tr>\n",
       "      <th>0</th>\n",
       "      <td>27.00000</td>\n",
       "      <td>Manchuria</td>\n",
       "      <td>1931</td>\n",
       "      <td>University Farm</td>\n",
       "    </tr>\n",
       "    <tr>\n",
       "      <th>1</th>\n",
       "      <td>48.86667</td>\n",
       "      <td>Manchuria</td>\n",
       "      <td>1931</td>\n",
       "      <td>Waseca</td>\n",
       "    </tr>\n",
       "    <tr>\n",
       "      <th>2</th>\n",
       "      <td>27.43334</td>\n",
       "      <td>Manchuria</td>\n",
       "      <td>1931</td>\n",
       "      <td>Morris</td>\n",
       "    </tr>\n",
       "    <tr>\n",
       "      <th>3</th>\n",
       "      <td>39.93333</td>\n",
       "      <td>Manchuria</td>\n",
       "      <td>1931</td>\n",
       "      <td>Crookston</td>\n",
       "    </tr>\n",
       "    <tr>\n",
       "      <th>4</th>\n",
       "      <td>32.96667</td>\n",
       "      <td>Manchuria</td>\n",
       "      <td>1931</td>\n",
       "      <td>Grand Rapids</td>\n",
       "    </tr>\n",
       "    <tr>\n",
       "      <th>...</th>\n",
       "      <td>...</td>\n",
       "      <td>...</td>\n",
       "      <td>...</td>\n",
       "      <td>...</td>\n",
       "    </tr>\n",
       "    <tr>\n",
       "      <th>115</th>\n",
       "      <td>58.16667</td>\n",
       "      <td>Wisconsin No. 38</td>\n",
       "      <td>1932</td>\n",
       "      <td>Waseca</td>\n",
       "    </tr>\n",
       "    <tr>\n",
       "      <th>116</th>\n",
       "      <td>47.16667</td>\n",
       "      <td>Wisconsin No. 38</td>\n",
       "      <td>1932</td>\n",
       "      <td>Morris</td>\n",
       "    </tr>\n",
       "    <tr>\n",
       "      <th>117</th>\n",
       "      <td>35.90000</td>\n",
       "      <td>Wisconsin No. 38</td>\n",
       "      <td>1932</td>\n",
       "      <td>Crookston</td>\n",
       "    </tr>\n",
       "    <tr>\n",
       "      <th>118</th>\n",
       "      <td>20.66667</td>\n",
       "      <td>Wisconsin No. 38</td>\n",
       "      <td>1932</td>\n",
       "      <td>Grand Rapids</td>\n",
       "    </tr>\n",
       "    <tr>\n",
       "      <th>119</th>\n",
       "      <td>29.33333</td>\n",
       "      <td>Wisconsin No. 38</td>\n",
       "      <td>1932</td>\n",
       "      <td>Duluth</td>\n",
       "    </tr>\n",
       "  </tbody>\n",
       "</table>\n",
       "<p>120 rows × 4 columns</p>\n",
       "</div>"
      ],
      "text/plain": [
       "        yield           variety  year             site\n",
       "0    27.00000         Manchuria  1931  University Farm\n",
       "1    48.86667         Manchuria  1931           Waseca\n",
       "2    27.43334         Manchuria  1931           Morris\n",
       "3    39.93333         Manchuria  1931        Crookston\n",
       "4    32.96667         Manchuria  1931     Grand Rapids\n",
       "..        ...               ...   ...              ...\n",
       "115  58.16667  Wisconsin No. 38  1932           Waseca\n",
       "116  47.16667  Wisconsin No. 38  1932           Morris\n",
       "117  35.90000  Wisconsin No. 38  1932        Crookston\n",
       "118  20.66667  Wisconsin No. 38  1932     Grand Rapids\n",
       "119  29.33333  Wisconsin No. 38  1932           Duluth\n",
       "\n",
       "[120 rows x 4 columns]"
      ]
     },
     "execution_count": 5,
     "metadata": {},
     "output_type": "execute_result"
    }
   ],
   "source": [
    "v.barley()"
   ]
  },
  {
   "cell_type": "code",
   "execution_count": null,
   "metadata": {},
   "outputs": [],
   "source": []
  }
 ],
 "metadata": {
  "kernelspec": {
   "display_name": "Python 3",
   "language": "python",
   "name": "python3"
  },
  "language_info": {
   "codemirror_mode": {
    "name": "ipython",
    "version": 3
   },
   "file_extension": ".py",
   "mimetype": "text/x-python",
   "name": "python",
   "nbconvert_exporter": "python",
   "pygments_lexer": "ipython3",
   "version": "3.8.2"
  }
 },
 "nbformat": 4,
 "nbformat_minor": 4
}
